{
  "nbformat": 4,
  "nbformat_minor": 0,
  "metadata": {
    "colab": {
      "private_outputs": true,
      "provenance": [],
      "toc_visible": true,
      "gpuType": "T4"
    },
    "kernelspec": {
      "name": "python3",
      "display_name": "Python 3"
    },
    "language_info": {
      "name": "python"
    },
    "accelerator": "GPU"
  },
  "cells": [
    {
      "cell_type": "markdown",
      "source": [
        "# Neural Networks with PyTorch\n",
        "\n",
        "In this assignment, we are going to train a Neural Networks on the Japanese MNIST dataset. It is composed of 70000 images of handwritten Hiragana characters. The target variables has 10 different classes.\n",
        "\n",
        "Each image is of dimension 28 by 28. But we will flatten them to form a dataset composed of vectors of dimension (784, 1). The training process will be similar as for a structured dataset.\n",
        "\n",
        "<img src='https://drive.google.com/uc?id=16TqEl9ESfXYbUpVafXD6h5UpJYGKfMxE' width=\"500\" height=\"200\">\n",
        "\n",
        "Your goal is to run at least 3 experiments and get a model that can achieve 80% accuracy with not much overfitting on this dataset.\n",
        "\n",
        "Some of the code have already been defined for you. You need only to add your code in the sections specified (marked with **TODO**). Some assert statements have been added to verify the expected outputs are correct. If it does throw an error, this means your implementation is behaving as expected.\n",
        "\n",
        "Note: You can only use fully-connected and dropout layers for this assignment. You can not convolution layers for instance"
      ],
      "metadata": {
        "id": "KNyZ-zZxlU6G"
      }
    },
    {
      "cell_type": "markdown",
      "source": [
        "# 1. Import Required Packages"
      ],
      "metadata": {
        "id": "iOufKqO8mw7n"
      }
    },
    {
      "cell_type": "markdown",
      "source": [
        "[1.1] We are going to use numpy, matplotlib and google.colab packages"
      ],
      "metadata": {
        "id": "b-sGJ26pmz4A"
      }
    },
    {
      "cell_type": "code",
      "execution_count": null,
      "metadata": {
        "id": "oTGG80etnMAa"
      },
      "outputs": [],
      "source": [
        "from google.colab import drive\n",
        "import numpy as np\n",
        "import matplotlib.pyplot as plt"
      ]
    },
    {
      "cell_type": "markdown",
      "source": [
        "# 2. Download Dataset\n",
        "\n",
        "We will store the dataset into your personal Google Drive.\n"
      ],
      "metadata": {
        "id": "Vyky0K3fnEFO"
      }
    },
    {
      "cell_type": "markdown",
      "source": [
        "[2.1] Mount Google Drive"
      ],
      "metadata": {
        "id": "ltUMtjG-nX-b"
      }
    },
    {
      "cell_type": "code",
      "source": [
        "drive.mount('/content/gdrive')"
      ],
      "metadata": {
        "id": "N_FVrXICnMJM"
      },
      "execution_count": null,
      "outputs": []
    },
    {
      "cell_type": "markdown",
      "source": [
        "[2.2] Create a folder called `DL_ASG_1` on your Google Drive at the root level"
      ],
      "metadata": {
        "id": "CzLtlKCHnT9H"
      }
    },
    {
      "cell_type": "code",
      "source": [
        "! mkdir -p /content/gdrive/MyDrive/DL_ASG_1"
      ],
      "metadata": {
        "id": "XZicoPks4POW"
      },
      "execution_count": null,
      "outputs": []
    },
    {
      "cell_type": "markdown",
      "source": [
        "[2.3] Navigate to this folder"
      ],
      "metadata": {
        "id": "sToej_3CnePP"
      }
    },
    {
      "cell_type": "code",
      "source": [
        "%cd '/content/gdrive/MyDrive/DL_ASG_1'"
      ],
      "metadata": {
        "id": "g2oAXToKnpXj"
      },
      "execution_count": null,
      "outputs": []
    },
    {
      "cell_type": "markdown",
      "source": [
        "[2.4] Show the list of item on the folder"
      ],
      "metadata": {
        "id": "TnRHIyhlzUwL"
      }
    },
    {
      "cell_type": "code",
      "source": [
        "!ls"
      ],
      "metadata": {
        "id": "Y-xYtezBzQ0c"
      },
      "execution_count": null,
      "outputs": []
    },
    {
      "cell_type": "markdown",
      "source": [
        "[2.4] Dowload the dataset files to your Google Drive if required"
      ],
      "metadata": {
        "id": "3vlfobqnnjJ1"
      }
    },
    {
      "cell_type": "code",
      "source": [
        "import requests\n",
        "from tqdm import tqdm\n",
        "import os.path\n",
        "\n",
        "def download_file(url):\n",
        "    path = url.split('/')[-1]\n",
        "    if os.path.isfile(path):\n",
        "        print (f\"{path} already exists\")\n",
        "    else:\n",
        "      r = requests.get(url, stream=True)\n",
        "      with open(path, 'wb') as f:\n",
        "          total_length = int(r.headers.get('content-length'))\n",
        "          print('Downloading {} - {:.1f} MB'.format(path, (total_length / 1024000)))\n",
        "          for chunk in tqdm(r.iter_content(chunk_size=1024), total=int(total_length / 1024) + 1, unit=\"KB\"):\n",
        "              if chunk:\n",
        "                  f.write(chunk)\n",
        "\n",
        "url_list = [\n",
        "    'http://codh.rois.ac.jp/kmnist/dataset/kmnist/kmnist-train-imgs.npz',\n",
        "    'http://codh.rois.ac.jp/kmnist/dataset/kmnist/kmnist-train-labels.npz',\n",
        "    'http://codh.rois.ac.jp/kmnist/dataset/kmnist/kmnist-test-imgs.npz',\n",
        "    'http://codh.rois.ac.jp/kmnist/dataset/kmnist/kmnist-test-labels.npz'\n",
        "]\n",
        "\n",
        "for url in url_list:\n",
        "    download_file(url)"
      ],
      "metadata": {
        "id": "M0owzTC427NM"
      },
      "execution_count": null,
      "outputs": []
    },
    {
      "cell_type": "markdown",
      "source": [
        "[2.5] List the content of the folder and confirm files have been dowloaded properly"
      ],
      "metadata": {
        "id": "DVF_Cx7Hny2i"
      }
    },
    {
      "cell_type": "code",
      "source": [
        "! ls"
      ],
      "metadata": {
        "id": "vt6ZKf4fnqkq"
      },
      "execution_count": null,
      "outputs": []
    },
    {
      "cell_type": "markdown",
      "source": [
        "# 3. Load Data"
      ],
      "metadata": {
        "id": "fvvfOON36hTf"
      }
    },
    {
      "cell_type": "markdown",
      "source": [
        "[3.1] Import the required modules from PyTorch"
      ],
      "metadata": {
        "id": "duFjgsyPoLPR"
      }
    },
    {
      "cell_type": "code",
      "source": [
        "# TODO (Students need to fill this section)\n",
        "import torch\n",
        "import torch.nn as nn\n",
        "import torch.nn.functional as F\n",
        "import torch.optim as optim"
      ],
      "metadata": {
        "id": "1zolHKEO7GZA"
      },
      "execution_count": null,
      "outputs": []
    },
    {
      "cell_type": "markdown",
      "source": [
        "[3.2] **TODO** Create 2 variables called `img_height` and `img_width` that will both take the value 28"
      ],
      "metadata": {
        "id": "r4Aw5ObQoWdI"
      }
    },
    {
      "cell_type": "code",
      "source": [
        "# TODO (Students need to fill this section)\n",
        "img_height = 28\n",
        "img_width = 28"
      ],
      "metadata": {
        "id": "Ip0NFeyjpj79"
      },
      "execution_count": null,
      "outputs": []
    },
    {
      "cell_type": "markdown",
      "source": [
        "[3.3] Create a function that loads a .npz file using numpy and return the content of the `arr_0` key"
      ],
      "metadata": {
        "id": "hmX5SEHkpp63"
      }
    },
    {
      "cell_type": "code",
      "source": [
        "def load(f):\n",
        "    return np.load(f)['arr_0']"
      ],
      "metadata": {
        "id": "5S3cthx57L2f"
      },
      "execution_count": null,
      "outputs": []
    },
    {
      "cell_type": "markdown",
      "source": [
        "[3.4] **TODO** Load the 4 files saved on your Google Drive into their respective variables: x_train, y_train, x_test and y_test"
      ],
      "metadata": {
        "id": "8V2Ij9s7qRtj"
      }
    },
    {
      "cell_type": "code",
      "source": [
        "# TODO (Students need to fill this section)\n",
        "x_train = load('kmnist-train-imgs.npz')\n",
        "x_test = load('kmnist-test-imgs.npz')\n",
        "y_train = load('kmnist-train-labels.npz')\n",
        "y_test = load('kmnist-test-labels.npz')\n"
      ],
      "metadata": {
        "id": "5XTkRb0lqpEE"
      },
      "execution_count": null,
      "outputs": []
    },
    {
      "cell_type": "markdown",
      "source": [
        "[3.5] **TODO** Using matplotlib display the first image from the train set and its target value"
      ],
      "metadata": {
        "id": "3KC12nB7rlbV"
      }
    },
    {
      "cell_type": "code",
      "source": [
        "# TODO (Students need to fill this section)\n",
        "plt.imshow(x_train[0])\n",
        "print(y_train[0])"
      ],
      "metadata": {
        "id": "AOtWg7bBrwmV"
      },
      "execution_count": null,
      "outputs": []
    },
    {
      "cell_type": "markdown",
      "source": [
        "# 4. Prepare Data"
      ],
      "metadata": {
        "id": "htLk_27ir0B1"
      }
    },
    {
      "cell_type": "markdown",
      "source": [
        "[4.1] **TODO** Reshape the images from the training and testing set to have the channel dimension last. The dimensions should be: (row_number, height, width, channel)"
      ],
      "metadata": {
        "id": "VJEBe30Er33P"
      }
    },
    {
      "cell_type": "code",
      "source": [
        "# TODO (Students need to fill this section)\n",
        "x_train = x_train.reshape(x_train.shape[0], img_height, img_width, 1)\n",
        "x_test = x_test.reshape(x_test.shape[0], img_height, img_width, 1)"
      ],
      "metadata": {
        "id": "1yqWleZasxdR"
      },
      "execution_count": null,
      "outputs": []
    },
    {
      "cell_type": "code",
      "source": [
        "print(f\"x_train shape: {x_train.shape}\")\n",
        "print(f\"x_test shape: {x_test.shape}\")"
      ],
      "metadata": {
        "id": "MLl1YM7A8_4m"
      },
      "execution_count": null,
      "outputs": []
    },
    {
      "cell_type": "markdown",
      "source": [
        "[4.2] **TODO** Cast `x_train` and `x_test` into `float32` decimals"
      ],
      "metadata": {
        "id": "F2f6wvFys2ZI"
      }
    },
    {
      "cell_type": "code",
      "source": [
        "# TODO (Students need to fill this section)\n",
        "x_train = x_train.astype(np.float32)\n",
        "x_test = x_test.astype(np.float32)"
      ],
      "metadata": {
        "id": "FWZmWe73tLXT"
      },
      "execution_count": null,
      "outputs": []
    },
    {
      "cell_type": "markdown",
      "source": [
        "[4.3] **TODO** Standardise the images of the training and testing sets. Originally each image contains pixels with value ranging from 0 to 255. after standardisation, the new value range should be from 0 to 1."
      ],
      "metadata": {
        "id": "Z-1Jr0pKs6jv"
      }
    },
    {
      "cell_type": "code",
      "source": [
        "# TODO (Students need to fill this section)\n",
        "x_train = x_train / 255\n",
        "x_test = x_test / 255\n"
      ],
      "metadata": {
        "id": "RXY1o272t0JO"
      },
      "execution_count": null,
      "outputs": []
    },
    {
      "cell_type": "code",
      "source": [
        "print(f\"Min value in x_train: {x_train.min()}, Max value in x_train: {x_train.max()}\")\n",
        "print(f\"Min value in x_test: {x_test.min()}, Max value in x_test: {x_test.max()}\")"
      ],
      "metadata": {
        "id": "WqyNBvct9KgS"
      },
      "execution_count": null,
      "outputs": []
    },
    {
      "cell_type": "code",
      "source": [
        "# Solution\n",
        "print(x_train[0][0].shape)"
      ],
      "metadata": {
        "id": "EEqyY5m2DFEB"
      },
      "execution_count": null,
      "outputs": []
    },
    {
      "cell_type": "markdown",
      "source": [
        "[4.4] **TODO** Create a variable called `num_classes` that will take the value 10 which corresponds to the number of classes for the target variable"
      ],
      "metadata": {
        "id": "9eH4aZmXt7Fe"
      }
    },
    {
      "cell_type": "code",
      "source": [
        "# TODO (Students need to fill this section)\n",
        "num_classes = 10"
      ],
      "metadata": {
        "id": "gTnMgLxYuUs6"
      },
      "execution_count": null,
      "outputs": []
    },
    {
      "cell_type": "markdown",
      "source": [
        "[4.5] **TODO** Convert the target variable for the training and testing sets to a binary class matrix of dimension (rows, num_classes).\n",
        "\n",
        "For example:\n",
        "- class 0 will become [1, 0, 0, 0, 0, 0, 0, 0, 0, 0]\n",
        "- class 1 will become [0, 1, 0, 0, 0, 0, 0, 0, 0, 0]\n",
        "- class 5 will become [0, 0, 0, 0, 0, 1, 0, 0, 0, 0]\n",
        "- class 9 will become [0, 0, 0, 0, 0, 0, 0, 0, 0, 1]"
      ],
      "metadata": {
        "id": "iAy0fUJsuyhb"
      }
    },
    {
      "cell_type": "code",
      "source": [
        "import numpy as np\n",
        "\n",
        "print(\"Unique values in y_train:\", np.unique(y_train))\n",
        "print(\"Unique values in y_test:\", np.unique(y_test))\n"
      ],
      "metadata": {
        "id": "QR76eXZtG6xJ"
      },
      "execution_count": null,
      "outputs": []
    },
    {
      "cell_type": "code",
      "source": [
        "from tensorflow.keras.utils import to_categorical\n",
        "\n",
        "num_classes = 10  # There are 10 classes (digits 0-9)\n",
        "\n",
        "y_train = to_categorical(y_train, num_classes)\n",
        "y_test = to_categorical(y_test, num_classes)\n",
        "\n",
        "# Print shape to verify\n",
        "print(f\"y_train shape: {y_train.shape}\")  # Expected: (60000, 10)\n",
        "print(f\"y_test shape: {y_test.shape}\")    # Expected: (10000, 10)\n"
      ],
      "metadata": {
        "id": "4PNeP6VoHp9C"
      },
      "execution_count": null,
      "outputs": []
    },
    {
      "cell_type": "code",
      "source": [
        "y_train[0]"
      ],
      "metadata": {
        "id": "Bns37G6ciWIL"
      },
      "execution_count": null,
      "outputs": []
    },
    {
      "cell_type": "code",
      "source": [
        "y_test[0]"
      ],
      "metadata": {
        "id": "QJBmU-oDiOE0"
      },
      "execution_count": null,
      "outputs": []
    },
    {
      "cell_type": "markdown",
      "source": [
        "# 5. Experiment 1"
      ],
      "metadata": {
        "id": "9PstbPkN9re_"
      }
    },
    {
      "cell_type": "markdown",
      "source": [
        "## 5. Define Neural Networks Architecure"
      ],
      "metadata": {
        "id": "0OCorS00wxPN"
      }
    },
    {
      "cell_type": "markdown",
      "source": [
        "[5.1] Set the seed in PyTorch for reproducing results\n",
        "\n"
      ],
      "metadata": {
        "id": "7G_L-yqTxI1d"
      }
    },
    {
      "cell_type": "code",
      "source": [
        "# TODO (Students need to fill this section)\n",
        "torch.manual_seed(3)"
      ],
      "metadata": {
        "id": "XB8OIC9wrgFG"
      },
      "execution_count": null,
      "outputs": []
    },
    {
      "cell_type": "markdown",
      "source": [
        "[5.2] **TODO** Define the architecture of your Neural Networks and save it into a variable called `model`"
      ],
      "metadata": {
        "id": "5b93U4MixWeE"
      }
    },
    {
      "cell_type": "code",
      "source": [
        "device = 'cuda' if torch.cuda.is_available() else 'cpu'"
      ],
      "metadata": {
        "id": "x9GqGrrfVobA"
      },
      "execution_count": null,
      "outputs": []
    },
    {
      "cell_type": "code",
      "source": [
        "# TODO (Students need to fill this section)\n",
        "layer_1 = nn.Linear(784, 512)\n",
        "layer_2 = nn.Linear(512, 512)\n",
        "layer_top = nn.Linear(512, 10)"
      ],
      "metadata": {
        "id": "gq1f74uKxpkp"
      },
      "execution_count": null,
      "outputs": []
    },
    {
      "cell_type": "code",
      "source": [
        "model = nn.Sequential(\n",
        "    nn.Flatten(),               # Flatten input from (28,28) to (784,)\n",
        "    layer_1,        # Fully connected layer with 512 neurons\n",
        "    nn.ReLU(),                  # Activation function\n",
        "    layer_2,        # Another fully connected layer\n",
        "    nn.ReLU(),\n",
        "    layer_top,\n",
        "    nn.Softmax()  # Output layer with 10 classes\n",
        ")"
      ],
      "metadata": {
        "id": "gQ3-KgYWVwIw"
      },
      "execution_count": null,
      "outputs": []
    },
    {
      "cell_type": "markdown",
      "source": [
        "[5.2] **TODO** Print the summary of your model"
      ],
      "metadata": {
        "id": "0IvuMQ81xu5U"
      }
    },
    {
      "cell_type": "code",
      "source": [
        "# TODO (Students need to fill this section)\n",
        "print(model)\n"
      ],
      "metadata": {
        "id": "gBRm-h5dxvIw"
      },
      "execution_count": null,
      "outputs": []
    },
    {
      "cell_type": "code",
      "source": [
        "model.to(device)"
      ],
      "metadata": {
        "id": "in5EpT--i4Ou"
      },
      "execution_count": null,
      "outputs": []
    },
    {
      "cell_type": "markdown",
      "source": [
        "## 6. Train Neural Networks"
      ],
      "metadata": {
        "id": "sOPTnNxtx6MC"
      }
    },
    {
      "cell_type": "markdown",
      "source": [
        "[6.1] **TODO** Create 2 variables called `batch_size` and `epochs` that will  respectively take the values 128 and 500"
      ],
      "metadata": {
        "id": "fsHJzhnAyP4H"
      }
    },
    {
      "cell_type": "code",
      "source": [
        "# TODO (Students need to fill this section)\n",
        "batch_size = 128\n",
        "epochs = 5"
      ],
      "metadata": {
        "id": "Tq-bftwDXnhJ"
      },
      "execution_count": null,
      "outputs": []
    },
    {
      "cell_type": "markdown",
      "source": [
        "[6.2] **TODO** Compile your model with the appropriate loss function, the optimiser of your choice and the accuracy metric"
      ],
      "metadata": {
        "id": "4-bAkzwXyjAs"
      }
    },
    {
      "cell_type": "code",
      "source": [
        "criterion = nn.CrossEntropyLoss()\n"
      ],
      "metadata": {
        "id": "FvaKXV4qV_wY"
      },
      "execution_count": null,
      "outputs": []
    },
    {
      "cell_type": "code",
      "source": [
        "optimizer = optim.Adam(model.parameters(), lr=0.001)"
      ],
      "metadata": {
        "id": "GfYralfrWNgg"
      },
      "execution_count": null,
      "outputs": []
    },
    {
      "cell_type": "code",
      "source": [
        "import torch\n",
        "from torch.utils.data import DataLoader, TensorDataset\n",
        "\n",
        "# Convert data to PyTorch tensors\n",
        "x_train_tensor = torch.tensor(x_train, dtype=torch.float32)\n",
        "y_train_tensor = torch.tensor(y_train, dtype=torch.float32)  # Ensure labels are long type\n",
        "\n",
        "x_test_tensor = torch.tensor(x_test, dtype=torch.float32)\n",
        "y_test_tensor = torch.tensor(y_test, dtype=torch.float32)\n",
        "\n",
        "# Create Dataset objects\n",
        "train_dataset = TensorDataset(x_train_tensor, y_train_tensor)\n",
        "test_dataset = TensorDataset(x_test_tensor, y_test_tensor)\n",
        "\n",
        "# Create DataLoaders\n",
        "BATCH_SIZE = batch_size\n",
        "dataloader_train = DataLoader(train_dataset, batch_size=BATCH_SIZE, shuffle=True)\n",
        "dataloader_test = DataLoader(test_dataset, batch_size=BATCH_SIZE, shuffle=False)\n",
        "\n",
        "# Check the number of batches\n",
        "print(len(dataloader_train))  # Should still be 938\n",
        "print(len(dataloader_test))  # Should be 157 (10,000 / 64 ≈ 156.25, rounded up)\n"
      ],
      "metadata": {
        "id": "onXZ4jQ2ENxo"
      },
      "execution_count": null,
      "outputs": []
    },
    {
      "cell_type": "code",
      "source": [
        "model.to(device)"
      ],
      "metadata": {
        "id": "VzL5UuS2OG_k"
      },
      "execution_count": null,
      "outputs": []
    },
    {
      "cell_type": "markdown",
      "source": [
        "[6.3] **TODO** Train your model\n",
        "using the number of epochs defined. Calculate the total loss and save it to a variable called total_loss."
      ],
      "metadata": {
        "id": "iRvM_pEZy7SX"
      }
    },
    {
      "cell_type": "code",
      "source": [
        "train_losses = []\n",
        "EPOCHS = epochs\n",
        "for epoch in range(EPOCHS):\n",
        "    model.train()  # Set model to training mode\n",
        "    total_loss = 0\n",
        "\n",
        "    for data, target in dataloader_train:\n",
        "        data = data.view(-1, 28*28).to(device)  # Flatten images\n",
        "        target = target.to(device)\n",
        "\n",
        "        if target.ndim > 1:\n",
        "            target = target.argmax(dim=1)  # Convert one-hot to class indices\n",
        "\n",
        "        optimizer.zero_grad()\n",
        "        outputs = model(data)\n",
        "        loss = criterion(outputs, target)  # Compute the loss\n",
        "        loss.backward()\n",
        "        optimizer.step()\n",
        "\n",
        "        total_loss += loss.item()\n",
        "\n",
        "    avg_loss = total_loss / len(dataloader_train)\n",
        "    train_losses.append(avg_loss)\n",
        "    print(f\"EPOCH {epoch+1}: Loss = {avg_loss:.4f}\")"
      ],
      "metadata": {
        "id": "FC7Zq41fTqxv"
      },
      "execution_count": null,
      "outputs": []
    },
    {
      "cell_type": "code",
      "source": [
        "print(f\"Train Loss: {avg_loss:.4f}\")"
      ],
      "metadata": {
        "id": "9Wf6cnG4kiIO"
      },
      "execution_count": null,
      "outputs": []
    },
    {
      "cell_type": "code",
      "source": [
        "print(f\"Train Loss: {total_loss:.4f}\")"
      ],
      "metadata": {
        "id": "DMe27Jrd1HIP"
      },
      "execution_count": null,
      "outputs": []
    },
    {
      "cell_type": "markdown",
      "source": [
        "[6.4] **TODO** Test your model.  Initiate the model.eval() along with torch.no_grad() to turn off the gradients.\n"
      ],
      "metadata": {
        "id": "emZ5Ayr88PZh"
      }
    },
    {
      "cell_type": "code",
      "source": [
        "# TODO (Students need to fill this section)\n",
        "from sklearn.metrics import confusion_matrix\n",
        "import torch\n",
        "\n",
        "# Set model to evaluation mode (turns off dropout & batch norm effects)\n",
        "for epoch in range(EPOCHS):\n",
        "  model.eval()\n",
        "\n",
        "  correct = 0\n",
        "  total = 0\n",
        "  predicted_labels = []\n",
        "  true_labels = []\n",
        "  total_test_loss = 0\n",
        "\n",
        "  with torch.no_grad():  # Disable gradient calculation for efficiency\n",
        "      for data, target in dataloader_test:\n",
        "          data = data.view(-1, 28*28).to(device)  # Flatten images\n",
        "          target = target.to(device)\n",
        "\n",
        "          # Convert one-hot labels back to class indices if necessary\n",
        "          if target.ndim > 1:\n",
        "              target = target.argmax(dim=1)\n",
        "\n",
        "          outputs = model(data)  # Forward pass\n",
        "          loss = criterion(outputs, target)  # Compute test loss\n",
        "          total_test_loss += loss.item()  # Accumulate test loss\n",
        "          _, predicted = torch.max(outputs, 1)  # Get predicted class\n",
        "\n",
        "          total += target.size(0)\n",
        "          correct += (predicted == target).sum().item()\n",
        "\n",
        "          predicted_labels.extend(predicted.cpu().tolist())\n",
        "          true_labels.extend(target.cpu().tolist())\n"
      ],
      "metadata": {
        "id": "bfvBZ3zy8QM9"
      },
      "execution_count": null,
      "outputs": []
    },
    {
      "cell_type": "markdown",
      "source": [
        "## 7. Analyse Results"
      ],
      "metadata": {
        "id": "vz9uFy_X6oeA"
      }
    },
    {
      "cell_type": "markdown",
      "source": [
        "[7.1] **TODO** Display the performance of your model on the training and testing sets"
      ],
      "metadata": {
        "id": "ddugPZhZ68Wb"
      }
    },
    {
      "cell_type": "code",
      "source": [
        "from sklearn.metrics import classification_report\n",
        "\n",
        "model.eval()  # Set model to evaluation mode\n",
        "correct_train = 0\n",
        "total_train = 0\n",
        "predicted_labels_train = []  # Store predicted labels\n",
        "true_labels_train = []  # Store true labels\n",
        "total_train_loss = 0  # Track training loss\n",
        "\n",
        "with torch.no_grad():\n",
        "    for data, target in dataloader_train:\n",
        "        data = data.view(-1, 28*28).to(device)  # Flatten images\n",
        "        target = target.to(device)\n",
        "\n",
        "        if target.ndim > 1:\n",
        "            target = target.argmax(dim=1)  # Convert one-hot labels\n",
        "\n",
        "        outputs = model(data)\n",
        "        loss = criterion(outputs, target)  # Compute loss\n",
        "        total_train_loss += loss.item()  # Accumulate training loss\n",
        "\n",
        "        _, predicted = torch.max(outputs, 1)\n",
        "\n",
        "        total_train += target.size(0)\n",
        "        correct_train += (predicted == target).sum().item()\n",
        "\n",
        "        predicted_labels_train.extend(predicted.cpu().tolist())\n",
        "        true_labels_train.extend(target.cpu().tolist())\n",
        "\n",
        "# Compute final metrics\n",
        "train_accuracy = 100 * correct_train / total_train\n",
        "avg_train_loss = total_train_loss / len(dataloader_train)\n",
        "\n",
        "print(f\"Training Accuracy: {train_accuracy:.2f}% | Training Loss: {avg_train_loss:.4f}\")\n",
        "print(\"Classification Report for Training Set:\\n\", classification_report(true_labels_train, predicted_labels_train))\n"
      ],
      "metadata": {
        "id": "yihZIPZ_6sql"
      },
      "execution_count": null,
      "outputs": []
    },
    {
      "cell_type": "code",
      "source": [
        "from sklearn.metrics import confusion_matrix, classification_report\n",
        "\n",
        "model.eval()  # Set model to evaluation mode\n",
        "correct_test = 0\n",
        "total_test = 0\n",
        "predicted_labels = []\n",
        "true_labels = []\n",
        "total_test_loss = 0  # Initialize test loss\n",
        "\n",
        "with torch.no_grad():\n",
        "    for data, target in dataloader_test:\n",
        "        data = data.view(-1, 28*28).to(device)\n",
        "        target = target.to(device)\n",
        "\n",
        "        if target.ndim > 1:\n",
        "            target = target.argmax(dim=1)  # Convert one-hot labels\n",
        "\n",
        "        outputs = model(data)\n",
        "        loss = criterion(outputs, target)  # Compute test loss\n",
        "        total_test_loss += loss.item()  # Accumulate test loss\n",
        "\n",
        "        _, predicted = torch.max(outputs, 1)\n",
        "\n",
        "        total_test += target.size(0)\n",
        "        correct_test += (predicted == target).sum().item()\n",
        "\n",
        "        predicted_labels.extend(predicted.cpu().tolist())\n",
        "        true_labels.extend(target.cpu().tolist())\n",
        "\n",
        "# Compute final loss and accuracy\n",
        "avg_test_loss = total_test_loss / len(dataloader_test)\n",
        "test_accuracy = 100 * correct_test / total_test\n",
        "\n",
        "print(f\"Test Loss: {avg_test_loss:.4f}\")\n",
        "print(f\"Test Accuracy: {test_accuracy:.2f}%\")\n",
        "\n",
        "# Confusion Matrix\n",
        "conf_matrix = confusion_matrix(true_labels, predicted_labels)\n",
        "print(\"Confusion Matrix:\\n\", conf_matrix)\n",
        "\n",
        "# Classification Report\n",
        "print(\"Classification Report:\\n\", classification_report(true_labels, predicted_labels))\n"
      ],
      "metadata": {
        "id": "Sd9ODNRETHoC"
      },
      "execution_count": null,
      "outputs": []
    },
    {
      "cell_type": "markdown",
      "source": [
        "[7.2] **TODO** Plot the learning curve of your model"
      ],
      "metadata": {
        "id": "iBTo_xEI7K_z"
      }
    },
    {
      "cell_type": "code",
      "source": [
        "# TODO (Students need to fill this section)\n",
        "plt.figure(figsize=(8,6))\n",
        "plt.plot(range(1, EPOCHS+1), train_losses, label=\"Training Loss\", marker='o')\n",
        "\n",
        "\n",
        "plt.xlabel(\"Epochs\")\n",
        "plt.ylabel(\"Loss\")\n",
        "plt.title(\"Learning Curve\")\n",
        "plt.legend()\n",
        "plt.grid(True)\n",
        "plt.show()\n"
      ],
      "metadata": {
        "id": "jRt_4W2F7RVV"
      },
      "execution_count": null,
      "outputs": []
    },
    {
      "cell_type": "markdown",
      "source": [
        "[7.3] **TODO** Display the confusion matrix on the testing set predictions"
      ],
      "metadata": {
        "id": "qKPu98GR7a17"
      }
    },
    {
      "cell_type": "code",
      "source": [
        "# TODO (Students need to fill this section)\n",
        "import seaborn as sns\n",
        "plt.figure(figsize=(6, 5))\n",
        "sns.heatmap(conf_matrix, annot=True, fmt=\"d\", cmap=\"Blues\", xticklabels=set(true_labels), yticklabels=set(true_labels))\n",
        "plt.xlabel(\"Predicted Label\")\n",
        "plt.ylabel(\"True Label\")\n",
        "plt.title(\"Confusion Matrix\")\n",
        "plt.show()"
      ],
      "metadata": {
        "id": "TkrP9JCgMzpT"
      },
      "execution_count": null,
      "outputs": []
    },
    {
      "cell_type": "markdown",
      "source": [
        "# Experiment 2"
      ],
      "metadata": {
        "id": "8Riiw2Vx956R"
      }
    },
    {
      "cell_type": "markdown",
      "source": [
        "## 5. Define Neural Networks Architecure"
      ],
      "metadata": {
        "id": "5A8CfyCz-Bbv"
      }
    },
    {
      "cell_type": "markdown",
      "source": [
        "[5.1] Set the seed in PyTorch for reproducing results\n",
        "\n"
      ],
      "metadata": {
        "id": "9cL1Q4aL-Bbw"
      }
    },
    {
      "cell_type": "code",
      "source": [
        "# TODO (Students need to fill this section)\n",
        "torch.manual_seed(4)"
      ],
      "metadata": {
        "id": "A9FdcZfd-Bbx"
      },
      "execution_count": null,
      "outputs": []
    },
    {
      "cell_type": "markdown",
      "source": [
        "[5.2] **TODO** Define the architecture of your Neural Networks and save it into a variable called `model`"
      ],
      "metadata": {
        "id": "QtCGsFT4-Bby"
      }
    },
    {
      "cell_type": "code",
      "source": [
        "# TODO (Students need to fill this section)\n",
        "layer_1 = nn.Linear(784, 512)\n",
        "layer_2 = nn.Linear(512, 512)\n",
        "layer_top = nn.Linear(512, 10)"
      ],
      "metadata": {
        "id": "7zWO5N7q-Bbz"
      },
      "execution_count": null,
      "outputs": []
    },
    {
      "cell_type": "code",
      "source": [
        "model = nn.Sequential(\n",
        "    nn.Flatten(),               # Flatten input from (28,28) to (784,)\n",
        "    layer_1,\n",
        "    nn.ReLU(),\n",
        "    nn.Dropout(p=0.3),          # Dropout to reduce overfitting\n",
        "    layer_2,\n",
        "    nn.ReLU(),\n",
        "    nn.Dropout(p=0.3),          # Another Dropout layer\n",
        "    layer_top,\n",
        "    nn.Softmax()        # LogSoftmax for stability with CrossEntropyLoss\n",
        ")"
      ],
      "metadata": {
        "id": "CC31pMJE-Bbz"
      },
      "execution_count": null,
      "outputs": []
    },
    {
      "cell_type": "markdown",
      "source": [
        "[5.2] **TODO** Print the summary of your model"
      ],
      "metadata": {
        "id": "fp2frDks-Bbz"
      }
    },
    {
      "cell_type": "code",
      "source": [
        "# TODO (Students need to fill this section)\n",
        "print(model)\n"
      ],
      "metadata": {
        "id": "mmYI4qET-Bb0"
      },
      "execution_count": null,
      "outputs": []
    },
    {
      "cell_type": "code",
      "source": [
        "model.to(device)"
      ],
      "metadata": {
        "id": "rszYpaAb-Bb0"
      },
      "execution_count": null,
      "outputs": []
    },
    {
      "cell_type": "markdown",
      "source": [
        "## 6. Train Neural Networks"
      ],
      "metadata": {
        "id": "fSyp1xfX-Bb0"
      }
    },
    {
      "cell_type": "markdown",
      "source": [
        "[6.1] **TODO** Create 2 variables called `batch_size` and `epochs` that will  respectively take the values 128 and 500"
      ],
      "metadata": {
        "id": "qgijZOrS-Bb1"
      }
    },
    {
      "cell_type": "code",
      "source": [
        "# TODO (Students need to fill this section)\n",
        "batch_size = 128\n",
        "epochs = 5"
      ],
      "metadata": {
        "id": "3byOpp2U-Bb1"
      },
      "execution_count": null,
      "outputs": []
    },
    {
      "cell_type": "markdown",
      "source": [
        "[6.2] **TODO** Compile your model with the appropriate loss function, the optimiser of your choice and the accuracy metric"
      ],
      "metadata": {
        "id": "mhSJL6mO-Bb1"
      }
    },
    {
      "cell_type": "code",
      "source": [
        "criterion = nn.CrossEntropyLoss()"
      ],
      "metadata": {
        "id": "DHb_w8Vt-Bb1"
      },
      "execution_count": null,
      "outputs": []
    },
    {
      "cell_type": "code",
      "source": [
        "optimizer = optim.Adam(model.parameters(), lr=0.001)"
      ],
      "metadata": {
        "id": "yP7KF72y-Bb1"
      },
      "execution_count": null,
      "outputs": []
    },
    {
      "cell_type": "code",
      "source": [
        "import torch\n",
        "from torch.utils.data import DataLoader, TensorDataset\n",
        "\n",
        "# Convert data to PyTorch tensors\n",
        "x_train_tensor = torch.tensor(x_train, dtype=torch.float32)\n",
        "y_train_tensor = torch.tensor(y_train, dtype=torch.float32)  # Ensure labels are long type\n",
        "\n",
        "x_test_tensor = torch.tensor(x_test, dtype=torch.float32)\n",
        "y_test_tensor = torch.tensor(y_test, dtype=torch.float32)\n",
        "\n",
        "# Create Dataset objects\n",
        "train_dataset = TensorDataset(x_train_tensor, y_train_tensor)\n",
        "test_dataset = TensorDataset(x_test_tensor, y_test_tensor)\n",
        "\n",
        "# Create DataLoaders\n",
        "BATCH_SIZE = batch_size\n",
        "dataloader_train = DataLoader(train_dataset, batch_size=BATCH_SIZE, shuffle=True)\n",
        "dataloader_test = DataLoader(test_dataset, batch_size=BATCH_SIZE, shuffle=False)\n",
        "\n",
        "# Check the number of batches\n",
        "print(len(dataloader_train))\n",
        "print(len(dataloader_test))\n"
      ],
      "metadata": {
        "id": "eTQO86OL-Bb2"
      },
      "execution_count": null,
      "outputs": []
    },
    {
      "cell_type": "code",
      "source": [
        "model.to(device)"
      ],
      "metadata": {
        "id": "nWZx5yq5-Bb2"
      },
      "execution_count": null,
      "outputs": []
    },
    {
      "cell_type": "markdown",
      "source": [
        "[6.3] **TODO** Train your model\n",
        "using the number of epochs defined. Calculate the total loss and save it to a variable called total_loss."
      ],
      "metadata": {
        "id": "sV69Fbek-Bb2"
      }
    },
    {
      "cell_type": "code",
      "source": [
        "train_losses = []\n",
        "EPOCHS = epochs\n",
        "for epoch in range(EPOCHS):\n",
        "    model.train()  # Set model to training mode\n",
        "    total_loss = 0\n",
        "\n",
        "    for data, target in dataloader_train:\n",
        "        data = data.view(-1, 28*28).to(device)  # Flatten images\n",
        "        target = target.to(device)\n",
        "\n",
        "        if target.ndim > 1:\n",
        "            target = target.argmax(dim=1)  # Convert one-hot to class indices\n",
        "\n",
        "        optimizer.zero_grad()\n",
        "        outputs = model(data)\n",
        "        loss = criterion(outputs, target)  # Compute the loss\n",
        "        loss.backward()\n",
        "        optimizer.step()\n",
        "\n",
        "        total_loss += loss.item()\n",
        "\n",
        "    avg_loss = total_loss / len(dataloader_train)\n",
        "    train_losses.append(avg_loss)\n",
        "    print(f\"EPOCH {epoch+1}: Loss = {avg_loss:.4f}\")"
      ],
      "metadata": {
        "id": "cDtOq6Pk-Bb2"
      },
      "execution_count": null,
      "outputs": []
    },
    {
      "cell_type": "code",
      "source": [
        "print(f\"Train Loss: {avg_loss:.4f}\")"
      ],
      "metadata": {
        "id": "IBE1YYGo-Bb2"
      },
      "execution_count": null,
      "outputs": []
    },
    {
      "cell_type": "code",
      "source": [
        "print(f\"Train Loss: {total_loss:.4f}\")"
      ],
      "metadata": {
        "id": "0MBxOoVE-Bb2"
      },
      "execution_count": null,
      "outputs": []
    },
    {
      "cell_type": "markdown",
      "source": [
        "[6.4] **TODO** Test your model.  Initiate the model.eval() along with torch.no_grad() to turn off the gradients.\n"
      ],
      "metadata": {
        "id": "Y43kV-Fh-Bb3"
      }
    },
    {
      "cell_type": "code",
      "source": [
        "# TODO (Students need to fill this section)\n",
        "from sklearn.metrics import confusion_matrix\n",
        "import torch\n",
        "\n",
        "# Set model to evaluation mode (turns off dropout & batch norm effects)\n",
        "for epoch in range(EPOCHS):\n",
        "  model.eval()\n",
        "\n",
        "  correct = 0\n",
        "  total = 0\n",
        "  predicted_labels = []\n",
        "  true_labels = []\n",
        "  total_test_loss = 0\n",
        "\n",
        "  with torch.no_grad():  # Disable gradient calculation for efficiency\n",
        "      for data, target in dataloader_test:\n",
        "          data = data.view(-1, 28*28).to(device)  # Flatten images\n",
        "          target = target.to(device)\n",
        "\n",
        "          # Convert one-hot labels back to class indices if necessary\n",
        "          if target.ndim > 1:\n",
        "              target = target.argmax(dim=1)\n",
        "\n",
        "          outputs = model(data)  # Forward pass\n",
        "          loss = criterion(outputs, target)  # Compute test loss\n",
        "          total_test_loss += loss.item()  # Accumulate test loss\n",
        "          _, predicted = torch.max(outputs, 1)  # Get predicted class\n",
        "\n",
        "          total += target.size(0)\n",
        "          correct += (predicted == target).sum().item()\n",
        "\n",
        "          predicted_labels.extend(predicted.cpu().tolist())\n",
        "          true_labels.extend(target.cpu().tolist())\n",
        "\n"
      ],
      "metadata": {
        "id": "pzzlQZ-_-Bb3"
      },
      "execution_count": null,
      "outputs": []
    },
    {
      "cell_type": "markdown",
      "source": [
        "## 7. Analyse Results"
      ],
      "metadata": {
        "id": "zoGvi-66-Bb3"
      }
    },
    {
      "cell_type": "markdown",
      "source": [
        "[7.1] **TODO** Display the performance of your model on the training and testing sets"
      ],
      "metadata": {
        "id": "kM7lBzA2-Bb3"
      }
    },
    {
      "cell_type": "code",
      "source": [
        "from sklearn.metrics import classification_report\n",
        "\n",
        "model.eval()  # Set model to evaluation mode\n",
        "correct_train = 0\n",
        "total_train = 0\n",
        "predicted_labels_train = []  # Store predicted labels\n",
        "true_labels_train = []  # Store true labels\n",
        "total_train_loss = 0  # Track training loss\n",
        "\n",
        "with torch.no_grad():\n",
        "    for data, target in dataloader_train:\n",
        "        data = data.view(-1, 28*28).to(device)  # Flatten images\n",
        "        target = target.to(device)\n",
        "\n",
        "        if target.ndim > 1:\n",
        "            target = target.argmax(dim=1)  # Convert one-hot labels\n",
        "\n",
        "        outputs = model(data)\n",
        "        loss = criterion(outputs, target)  # Compute loss\n",
        "        total_train_loss += loss.item()  # Accumulate training loss\n",
        "\n",
        "        _, predicted = torch.max(outputs, 1)\n",
        "\n",
        "        total_train += target.size(0)\n",
        "        correct_train += (predicted == target).sum().item()\n",
        "\n",
        "        predicted_labels_train.extend(predicted.cpu().tolist())\n",
        "        true_labels_train.extend(target.cpu().tolist())\n",
        "\n",
        "# Compute final metrics\n",
        "train_accuracy = 100 * correct_train / total_train\n",
        "avg_train_loss = total_train_loss / len(dataloader_train)\n",
        "\n",
        "print(f\"Training Accuracy: {train_accuracy:.2f}% | Training Loss: {avg_train_loss:.4f}\")\n",
        "print(\"Classification Report for Training Set:\\n\", classification_report(true_labels_train, predicted_labels_train))\n"
      ],
      "metadata": {
        "id": "k1G1j3OK-Bb3"
      },
      "execution_count": null,
      "outputs": []
    },
    {
      "cell_type": "code",
      "source": [
        "from sklearn.metrics import confusion_matrix, classification_report\n",
        "\n",
        "model.eval()  # Set model to evaluation mode\n",
        "correct_test = 0\n",
        "total_test = 0\n",
        "predicted_labels = []\n",
        "true_labels = []\n",
        "total_test_loss = 0  # Initialize test loss\n",
        "\n",
        "with torch.no_grad():\n",
        "    for data, target in dataloader_test:\n",
        "        data = data.view(-1, 28*28).to(device)\n",
        "        target = target.to(device)\n",
        "\n",
        "        if target.ndim > 1:\n",
        "            target = target.argmax(dim=1)  # Convert one-hot labels\n",
        "\n",
        "        outputs = model(data)\n",
        "        loss = criterion(outputs, target)  # Compute test loss\n",
        "        total_test_loss += loss.item()  # Accumulate test loss\n",
        "\n",
        "        _, predicted = torch.max(outputs, 1)\n",
        "\n",
        "        total_test += target.size(0)\n",
        "        correct_test += (predicted == target).sum().item()\n",
        "\n",
        "        predicted_labels.extend(predicted.cpu().tolist())\n",
        "        true_labels.extend(target.cpu().tolist())\n",
        "\n",
        "# Compute final loss and accuracy\n",
        "avg_test_loss = total_test_loss / len(dataloader_test)\n",
        "test_accuracy = 100 * correct_test / total_test\n",
        "\n",
        "print(f\"Test Loss: {avg_test_loss:.4f}\")\n",
        "print(f\"Test Accuracy: {test_accuracy:.2f}%\")\n",
        "\n",
        "# Confusion Matrix\n",
        "conf_matrix = confusion_matrix(true_labels, predicted_labels)\n",
        "print(\"Confusion Matrix:\\n\", conf_matrix)\n",
        "\n",
        "# Classification Report\n",
        "print(\"Classification Report:\\n\", classification_report(true_labels, predicted_labels))\n"
      ],
      "metadata": {
        "id": "lej_s_lH-Bb3"
      },
      "execution_count": null,
      "outputs": []
    },
    {
      "cell_type": "markdown",
      "source": [
        "[7.2] **TODO** Plot the learning curve of your model"
      ],
      "metadata": {
        "id": "3FD7fGCO-Bb4"
      }
    },
    {
      "cell_type": "code",
      "source": [
        "# TODO (Students need to fill this section)\n",
        "plt.figure(figsize=(8,6))\n",
        "plt.plot(range(1, EPOCHS+1), train_losses, label=\"Training Loss\", marker='o')\n",
        "\n",
        "\n",
        "plt.xlabel(\"Epochs\")\n",
        "plt.ylabel(\"Loss\")\n",
        "plt.title(\"Learning Curve\")\n",
        "plt.legend()\n",
        "plt.grid(True)\n",
        "plt.show()\n"
      ],
      "metadata": {
        "id": "elV-Gu2K-Bb4"
      },
      "execution_count": null,
      "outputs": []
    },
    {
      "cell_type": "markdown",
      "source": [
        "[7.3] **TODO** Display the confusion matrix on the testing set predictions"
      ],
      "metadata": {
        "id": "vPqavtBY-Bb4"
      }
    },
    {
      "cell_type": "code",
      "source": [
        "# TODO (Students need to fill this section)\n",
        "import seaborn as sns\n",
        "plt.figure(figsize=(6, 5))\n",
        "sns.heatmap(conf_matrix, annot=True, fmt=\"d\", cmap=\"Blues\", xticklabels=set(true_labels), yticklabels=set(true_labels))\n",
        "plt.xlabel(\"Predicted Label\")\n",
        "plt.ylabel(\"True Label\")\n",
        "plt.title(\"Confusion Matrix\")\n",
        "plt.show()"
      ],
      "metadata": {
        "id": "TuC8kfa--Bb4"
      },
      "execution_count": null,
      "outputs": []
    },
    {
      "cell_type": "markdown",
      "source": [
        "# Experiment 3\n"
      ],
      "metadata": {
        "id": "ZhpZpKoEzRcp"
      }
    },
    {
      "cell_type": "markdown",
      "source": [
        "## 5. Define Neural Networks Architecure"
      ],
      "metadata": {
        "id": "WmIeXObVFckt"
      }
    },
    {
      "cell_type": "markdown",
      "source": [
        "[5.1] Set the seed in PyTorch for reproducing results\n",
        "\n"
      ],
      "metadata": {
        "id": "PxJrdT-bFcku"
      }
    },
    {
      "cell_type": "code",
      "source": [
        "# TODO (Students need to fill this section)\n",
        "torch.manual_seed(4)"
      ],
      "metadata": {
        "id": "KYJqPbDgFckv"
      },
      "execution_count": null,
      "outputs": []
    },
    {
      "cell_type": "markdown",
      "source": [
        "[5.2] **TODO** Define the architecture of your Neural Networks and save it into a variable called `model`"
      ],
      "metadata": {
        "id": "GIGRJTEKFckv"
      }
    },
    {
      "cell_type": "code",
      "source": [
        "# TODO (Students need to fill this section)\n",
        "layer_1 = nn.Linear(784, 512)\n",
        "layer_2 = nn.Linear(512, 512)\n",
        "layer_3 = nn.Linear(512, 256)\n",
        "layer_top = nn.Linear(256, 10)"
      ],
      "metadata": {
        "id": "UGMW7JBuFckw"
      },
      "execution_count": null,
      "outputs": []
    },
    {
      "cell_type": "code",
      "source": [
        "model = nn.Sequential(\n",
        "    nn.Flatten(),               # Flatten input from (28,28) to (784,)\n",
        "    layer_1,\n",
        "    nn.ReLU(),\n",
        "    nn.Dropout(p=0.2),          # Dropout to reduce overfitting\n",
        "    layer_2,\n",
        "    nn.ReLU(),\n",
        "    nn.Dropout(p=0.2),\n",
        "    layer_2,\n",
        "    nn.ReLU(),\n",
        "    nn.Dropout(p=0.2),# Another Dropout layer\n",
        "    layer_top,\n",
        "    nn.Softmax()        # LogSoftmax for stability with CrossEntropyLoss\n",
        ")"
      ],
      "metadata": {
        "id": "ta3EZsz9Fckw"
      },
      "execution_count": null,
      "outputs": []
    },
    {
      "cell_type": "markdown",
      "source": [
        "[5.2] **TODO** Print the summary of your model"
      ],
      "metadata": {
        "id": "o8R01_aeFckx"
      }
    },
    {
      "cell_type": "code",
      "source": [
        "# TODO (Students need to fill this section)\n",
        "print(model)\n"
      ],
      "metadata": {
        "id": "khoi_SLrFcky"
      },
      "execution_count": null,
      "outputs": []
    },
    {
      "cell_type": "code",
      "source": [
        "model.to(device)"
      ],
      "metadata": {
        "id": "QABQwHdxFckz"
      },
      "execution_count": null,
      "outputs": []
    },
    {
      "cell_type": "markdown",
      "source": [
        "## 6. Train Neural Networks"
      ],
      "metadata": {
        "id": "jTN9nUoTFck1"
      }
    },
    {
      "cell_type": "markdown",
      "source": [
        "[6.1] **TODO** Create 2 variables called `batch_size` and `epochs` that will  respectively take the values 128 and 500"
      ],
      "metadata": {
        "id": "KQ5Q4jQ9Fck2"
      }
    },
    {
      "cell_type": "code",
      "source": [
        "# TODO (Students need to fill this section)\n",
        "batch_size = 128\n",
        "epochs = 5"
      ],
      "metadata": {
        "id": "q1G6vtsRFck3"
      },
      "execution_count": null,
      "outputs": []
    },
    {
      "cell_type": "markdown",
      "source": [
        "[6.2] **TODO** Compile your model with the appropriate loss function, the optimiser of your choice and the accuracy metric"
      ],
      "metadata": {
        "id": "aKJZiEzfFck4"
      }
    },
    {
      "cell_type": "code",
      "source": [
        "criterion = nn.CrossEntropyLoss()"
      ],
      "metadata": {
        "id": "hzwHlH8SFck4"
      },
      "execution_count": null,
      "outputs": []
    },
    {
      "cell_type": "code",
      "source": [
        "optimizer = optim.Adam(model.parameters(), lr=0.001)"
      ],
      "metadata": {
        "id": "DufcpZ9GFck5"
      },
      "execution_count": null,
      "outputs": []
    },
    {
      "cell_type": "code",
      "source": [
        "import torch\n",
        "from torch.utils.data import DataLoader, TensorDataset\n",
        "\n",
        "# Convert data to PyTorch tensors\n",
        "x_train_tensor = torch.tensor(x_train, dtype=torch.float32)\n",
        "y_train_tensor = torch.tensor(y_train, dtype=torch.float32)  # Ensure labels are long type\n",
        "\n",
        "x_test_tensor = torch.tensor(x_test, dtype=torch.float32)\n",
        "y_test_tensor = torch.tensor(y_test, dtype=torch.float32)\n",
        "\n",
        "# Create Dataset objects\n",
        "train_dataset = TensorDataset(x_train_tensor, y_train_tensor)\n",
        "test_dataset = TensorDataset(x_test_tensor, y_test_tensor)\n",
        "\n",
        "# Create DataLoaders\n",
        "BATCH_SIZE = batch_size\n",
        "dataloader_train = DataLoader(train_dataset, batch_size=BATCH_SIZE, shuffle=True)\n",
        "dataloader_test = DataLoader(test_dataset, batch_size=BATCH_SIZE, shuffle=False)\n",
        "\n",
        "# Check the number of batches\n",
        "print(len(dataloader_train))\n",
        "print(len(dataloader_test))\n"
      ],
      "metadata": {
        "id": "Grm9QIPAFck5"
      },
      "execution_count": null,
      "outputs": []
    },
    {
      "cell_type": "code",
      "source": [
        "model.to(device)"
      ],
      "metadata": {
        "id": "18rmBlfDFck5"
      },
      "execution_count": null,
      "outputs": []
    },
    {
      "cell_type": "markdown",
      "source": [
        "[6.3] **TODO** Train your model\n",
        "using the number of epochs defined. Calculate the total loss and save it to a variable called total_loss."
      ],
      "metadata": {
        "id": "GdVK2e8cFck6"
      }
    },
    {
      "cell_type": "code",
      "source": [
        "train_losses = []\n",
        "EPOCHS = epochs\n",
        "for epoch in range(EPOCHS):\n",
        "    model.train()  # Set model to training mode\n",
        "    total_loss = 0\n",
        "\n",
        "    for data, target in dataloader_train:\n",
        "        data = data.view(-1, 28*28).to(device)  # Flatten images\n",
        "        target = target.to(device)\n",
        "\n",
        "        if target.ndim > 1:\n",
        "            target = target.argmax(dim=1)  # Convert one-hot to class indices\n",
        "\n",
        "        optimizer.zero_grad()\n",
        "        outputs = model(data)\n",
        "        loss = criterion(outputs, target)  # Compute the loss\n",
        "        loss.backward()\n",
        "        optimizer.step()\n",
        "\n",
        "        total_loss += loss.item()\n",
        "\n",
        "    avg_loss = total_loss / len(dataloader_train)\n",
        "    train_losses.append(avg_loss)\n",
        "    print(f\"EPOCH {epoch+1}: Loss = {avg_loss:.4f}\")"
      ],
      "metadata": {
        "id": "R88nBBjeFck6"
      },
      "execution_count": null,
      "outputs": []
    },
    {
      "cell_type": "code",
      "source": [
        "print(f\"Train Loss: {avg_loss:.4f}\")"
      ],
      "metadata": {
        "id": "loRQ7BTjFck6"
      },
      "execution_count": null,
      "outputs": []
    },
    {
      "cell_type": "code",
      "source": [
        "print(f\"Train Loss: {total_loss:.4f}\")"
      ],
      "metadata": {
        "id": "JACQWG7tFck7"
      },
      "execution_count": null,
      "outputs": []
    },
    {
      "cell_type": "markdown",
      "source": [
        "[6.4] **TODO** Test your model.  Initiate the model.eval() along with torch.no_grad() to turn off the gradients.\n"
      ],
      "metadata": {
        "id": "cGsDViELFck7"
      }
    },
    {
      "cell_type": "code",
      "source": [
        "# TODO (Students need to fill this section)\n",
        "from sklearn.metrics import confusion_matrix\n",
        "import torch\n",
        "\n",
        "# Set model to evaluation mode (turns off dropout & batch norm effects)\n",
        "for epoch in range(EPOCHS):\n",
        "  model.eval()\n",
        "\n",
        "  correct = 0\n",
        "  total = 0\n",
        "  predicted_labels = []\n",
        "  true_labels = []\n",
        "  total_test_loss = 0\n",
        "\n",
        "  with torch.no_grad():  # Disable gradient calculation for efficiency\n",
        "      for data, target in dataloader_test:\n",
        "          data = data.view(-1, 28*28).to(device)  # Flatten images\n",
        "          target = target.to(device)\n",
        "\n",
        "          # Convert one-hot labels back to class indices if necessary\n",
        "          if target.ndim > 1:\n",
        "              target = target.argmax(dim=1)\n",
        "\n",
        "          outputs = model(data)  # Forward pass\n",
        "          loss = criterion(outputs, target)  # Compute test loss\n",
        "          total_test_loss += loss.item()  # Accumulate test loss\n",
        "          _, predicted = torch.max(outputs, 1)  # Get predicted class\n",
        "\n",
        "          total += target.size(0)\n",
        "          correct += (predicted == target).sum().item()\n",
        "\n",
        "          predicted_labels.extend(predicted.cpu().tolist())\n",
        "          true_labels.extend(target.cpu().tolist())\n",
        "\n"
      ],
      "metadata": {
        "id": "weS1AxfIFck7"
      },
      "execution_count": null,
      "outputs": []
    },
    {
      "cell_type": "markdown",
      "source": [
        "## 7. Analyse Results"
      ],
      "metadata": {
        "id": "vqAvRtLOFck8"
      }
    },
    {
      "cell_type": "markdown",
      "source": [
        "[7.1] **TODO** Display the performance of your model on the training and testing sets"
      ],
      "metadata": {
        "id": "MrLQXLCfFck8"
      }
    },
    {
      "cell_type": "code",
      "source": [
        "from sklearn.metrics import classification_report\n",
        "\n",
        "model.eval()  # Set model to evaluation mode\n",
        "correct_train = 0\n",
        "total_train = 0\n",
        "predicted_labels_train = []  # Store predicted labels\n",
        "true_labels_train = []  # Store true labels\n",
        "total_train_loss = 0  # Track training loss\n",
        "\n",
        "with torch.no_grad():\n",
        "    for data, target in dataloader_train:\n",
        "        data = data.view(-1, 28*28).to(device)  # Flatten images\n",
        "        target = target.to(device)\n",
        "\n",
        "        if target.ndim > 1:\n",
        "            target = target.argmax(dim=1)  # Convert one-hot labels\n",
        "\n",
        "        outputs = model(data)\n",
        "        loss = criterion(outputs, target)  # Compute loss\n",
        "        total_train_loss += loss.item()  # Accumulate training loss\n",
        "\n",
        "        _, predicted = torch.max(outputs, 1)\n",
        "\n",
        "        total_train += target.size(0)\n",
        "        correct_train += (predicted == target).sum().item()\n",
        "\n",
        "        predicted_labels_train.extend(predicted.cpu().tolist())\n",
        "        true_labels_train.extend(target.cpu().tolist())\n",
        "\n",
        "# Compute final metrics\n",
        "train_accuracy = 100 * correct_train / total_train\n",
        "avg_train_loss = total_train_loss / len(dataloader_train)\n",
        "\n",
        "print(f\"Training Accuracy: {train_accuracy:.2f}% | Training Loss: {avg_train_loss:.4f}\")\n",
        "print(\"Classification Report for Training Set:\\n\", classification_report(true_labels_train, predicted_labels_train))\n"
      ],
      "metadata": {
        "id": "oLa64DJZFck9"
      },
      "execution_count": null,
      "outputs": []
    },
    {
      "cell_type": "code",
      "source": [
        "from sklearn.metrics import confusion_matrix, classification_report\n",
        "\n",
        "model.eval()  # Set model to evaluation mode\n",
        "correct_test = 0\n",
        "total_test = 0\n",
        "predicted_labels = []\n",
        "true_labels = []\n",
        "total_test_loss = 0  # Initialize test loss\n",
        "\n",
        "with torch.no_grad():\n",
        "    for data, target in dataloader_test:\n",
        "        data = data.view(-1, 28*28).to(device)\n",
        "        target = target.to(device)\n",
        "\n",
        "        if target.ndim > 1:\n",
        "            target = target.argmax(dim=1)  # Convert one-hot labels\n",
        "\n",
        "        outputs = model(data)\n",
        "        loss = criterion(outputs, target)  # Compute test loss\n",
        "        total_test_loss += loss.item()  # Accumulate test loss\n",
        "\n",
        "        _, predicted = torch.max(outputs, 1)\n",
        "\n",
        "        total_test += target.size(0)\n",
        "        correct_test += (predicted == target).sum().item()\n",
        "\n",
        "        predicted_labels.extend(predicted.cpu().tolist())\n",
        "        true_labels.extend(target.cpu().tolist())\n",
        "\n",
        "# Compute final loss and accuracy\n",
        "avg_test_loss = total_test_loss / len(dataloader_test)\n",
        "test_accuracy = 100 * correct_test / total_test\n",
        "\n",
        "print(f\"Test Loss: {avg_test_loss:.4f}\")\n",
        "print(f\"Test Accuracy: {test_accuracy:.2f}%\")\n",
        "\n",
        "# Confusion Matrix\n",
        "conf_matrix = confusion_matrix(true_labels, predicted_labels)\n",
        "print(\"Confusion Matrix:\\n\", conf_matrix)\n",
        "\n",
        "# Classification Report\n",
        "print(\"Classification Report:\\n\", classification_report(true_labels, predicted_labels))\n"
      ],
      "metadata": {
        "id": "NJC2E9-WFck9"
      },
      "execution_count": null,
      "outputs": []
    },
    {
      "cell_type": "markdown",
      "source": [
        "[7.2] **TODO** Plot the learning curve of your model"
      ],
      "metadata": {
        "id": "eD_uyRmnFck-"
      }
    },
    {
      "cell_type": "code",
      "source": [
        "# TODO (Students need to fill this section)\n",
        "plt.figure(figsize=(8,6))\n",
        "plt.plot(range(1, EPOCHS+1), train_losses, label=\"Training Loss\", marker='o')\n",
        "\n",
        "\n",
        "plt.xlabel(\"Epochs\")\n",
        "plt.ylabel(\"Loss\")\n",
        "plt.title(\"Learning Curve\")\n",
        "plt.legend()\n",
        "plt.grid(True)\n",
        "plt.show()\n"
      ],
      "metadata": {
        "id": "K3nvutskFck-"
      },
      "execution_count": null,
      "outputs": []
    },
    {
      "cell_type": "markdown",
      "source": [
        "[7.3] **TODO** Display the confusion matrix on the testing set predictions"
      ],
      "metadata": {
        "id": "B_ec5miqFck-"
      }
    },
    {
      "cell_type": "code",
      "source": [
        "# TODO (Students need to fill this section)\n",
        "import seaborn as sns\n",
        "plt.figure(figsize=(6, 5))\n",
        "sns.heatmap(conf_matrix, annot=True, fmt=\"d\", cmap=\"Blues\", xticklabels=set(true_labels), yticklabels=set(true_labels))\n",
        "plt.xlabel(\"Predicted Label\")\n",
        "plt.ylabel(\"True Label\")\n",
        "plt.title(\"Confusion Matrix\")\n",
        "plt.show()"
      ],
      "metadata": {
        "id": "bGZndqNuFck-"
      },
      "execution_count": null,
      "outputs": []
    }
  ]
}