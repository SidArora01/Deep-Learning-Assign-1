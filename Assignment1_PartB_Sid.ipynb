{
  "nbformat": 4,
  "nbformat_minor": 0,
  "metadata": {
    "colab": {
      "private_outputs": true,
      "provenance": []
    },
    "kernelspec": {
      "name": "python3",
      "display_name": "Python 3"
    },
    "language_info": {
      "name": "python"
    },
    "accelerator": "GPU"
  },
  "cells": [
    {
      "cell_type": "markdown",
      "source": [
        "# Neural Networks with PyTorch\n",
        "\n",
        "In this assignment, we are going to train a Neural Networks on the Japanese MNIST dataset. It is composed of 70000 images of handwritten Hiragana characters. The target variables has 10 different classes.\n",
        "\n",
        "Each image is of dimension 28 by 28. But we will flatten them to form a dataset composed of vectors of dimension (784, 1). The training process will be similar as for a structured dataset.\n",
        "\n",
        "<img src='https://drive.google.com/uc?id=16TqEl9ESfXYbUpVafXD6h5UpJYGKfMxE' width=\"500\" height=\"200\">\n",
        "\n",
        "Your goal is to run at least 3 experiments and get a model that can achieve 80% accuracy with not much overfitting on this dataset.\n",
        "\n",
        "Some of the code have already been defined for you. You need only to add your code in the sections specified (marked with **TODO**). Some assert statements have been added to verify the expected outputs are correct. If it does throw an error, this means your implementation is behaving as expected.\n",
        "\n",
        "Note: You can only use fully-connected and dropout layers for this assignment. You can not convolution layers for instance"
      ],
      "metadata": {
        "id": "KNyZ-zZxlU6G"
      }
    },
    {
      "cell_type": "markdown",
      "source": [
        "# 1. Import Required Packages"
      ],
      "metadata": {
        "id": "iOufKqO8mw7n"
      }
    },
    {
      "cell_type": "markdown",
      "source": [
        "[1.1] We are going to use numpy, matplotlib and google.colab packages"
      ],
      "metadata": {
        "id": "b-sGJ26pmz4A"
      }
    },
    {
      "cell_type": "code",
      "execution_count": null,
      "metadata": {
        "id": "oTGG80etnMAa"
      },
      "outputs": [],
      "source": [
        "from google.colab import drive\n",
        "import numpy as np\n",
        "import matplotlib.pyplot as plt"
      ]
    },
    {
      "cell_type": "markdown",
      "source": [
        "# 2. Download Dataset\n",
        "\n",
        "We will store the dataset into your personal Google Drive.\n"
      ],
      "metadata": {
        "id": "Vyky0K3fnEFO"
      }
    },
    {
      "cell_type": "markdown",
      "source": [
        "[2.1] Mount Google Drive"
      ],
      "metadata": {
        "id": "ltUMtjG-nX-b"
      }
    },
    {
      "cell_type": "code",
      "source": [
        "drive.mount('/content/gdrive')"
      ],
      "metadata": {
        "id": "N_FVrXICnMJM"
      },
      "execution_count": null,
      "outputs": []
    },
    {
      "cell_type": "markdown",
      "source": [
        "[2.2] Create a folder called `DL_ASG_1` on your Google Drive at the root level"
      ],
      "metadata": {
        "id": "CzLtlKCHnT9H"
      }
    },
    {
      "cell_type": "code",
      "source": [
        "! mkdir -p /content/gdrive/MyDrive/DL_ASG_1"
      ],
      "metadata": {
        "id": "XZicoPks4POW"
      },
      "execution_count": null,
      "outputs": []
    },
    {
      "cell_type": "markdown",
      "source": [
        "[2.3] Navigate to this folder"
      ],
      "metadata": {
        "id": "sToej_3CnePP"
      }
    },
    {
      "cell_type": "code",
      "source": [
        "%cd '/content/gdrive/MyDrive/DL_ASG_1'"
      ],
      "metadata": {
        "id": "g2oAXToKnpXj"
      },
      "execution_count": null,
      "outputs": []
    },
    {
      "cell_type": "markdown",
      "source": [
        "[2.4] Show the list of item on the folder"
      ],
      "metadata": {
        "id": "TnRHIyhlzUwL"
      }
    },
    {
      "cell_type": "code",
      "source": [
        "!ls"
      ],
      "metadata": {
        "id": "Y-xYtezBzQ0c"
      },
      "execution_count": null,
      "outputs": []
    },
    {
      "cell_type": "markdown",
      "source": [
        "[2.4] Dowload the dataset files to your Google Drive if required"
      ],
      "metadata": {
        "id": "3vlfobqnnjJ1"
      }
    },
    {
      "cell_type": "code",
      "source": [
        "import requests\n",
        "from tqdm import tqdm\n",
        "import os.path\n",
        "\n",
        "def download_file(url):\n",
        "    path = url.split('/')[-1]\n",
        "    if os.path.isfile(path):\n",
        "        print (f\"{path} already exists\")\n",
        "    else:\n",
        "      r = requests.get(url, stream=True)\n",
        "      with open(path, 'wb') as f:\n",
        "          total_length = int(r.headers.get('content-length'))\n",
        "          print('Downloading {} - {:.1f} MB'.format(path, (total_length / 1024000)))\n",
        "          for chunk in tqdm(r.iter_content(chunk_size=1024), total=int(total_length / 1024) + 1, unit=\"KB\"):\n",
        "              if chunk:\n",
        "                  f.write(chunk)\n",
        "\n",
        "url_list = [\n",
        "    'http://codh.rois.ac.jp/kmnist/dataset/kmnist/kmnist-train-imgs.npz',\n",
        "    'http://codh.rois.ac.jp/kmnist/dataset/kmnist/kmnist-train-labels.npz',\n",
        "    'http://codh.rois.ac.jp/kmnist/dataset/kmnist/kmnist-test-imgs.npz',\n",
        "    'http://codh.rois.ac.jp/kmnist/dataset/kmnist/kmnist-test-labels.npz'\n",
        "]\n",
        "\n",
        "for url in url_list:\n",
        "    download_file(url)"
      ],
      "metadata": {
        "id": "M0owzTC427NM"
      },
      "execution_count": null,
      "outputs": []
    },
    {
      "cell_type": "markdown",
      "source": [
        "[2.5] List the content of the folder and confirm files have been dowloaded properly"
      ],
      "metadata": {
        "id": "DVF_Cx7Hny2i"
      }
    },
    {
      "cell_type": "code",
      "source": [
        "! ls"
      ],
      "metadata": {
        "id": "vt6ZKf4fnqkq"
      },
      "execution_count": null,
      "outputs": []
    },
    {
      "cell_type": "markdown",
      "source": [
        "# 3. Load Data"
      ],
      "metadata": {
        "id": "fvvfOON36hTf"
      }
    },
    {
      "cell_type": "markdown",
      "source": [
        "[3.1] Import the required modules from PyTorch"
      ],
      "metadata": {
        "id": "duFjgsyPoLPR"
      }
    },
    {
      "cell_type": "code",
      "source": [
        "# TODO (Students need to fill this section)"
      ],
      "metadata": {
        "id": "1zolHKEO7GZA"
      },
      "execution_count": null,
      "outputs": []
    },
    {
      "cell_type": "markdown",
      "source": [
        "[3.2] **TODO** Create 2 variables called `img_height` and `img_width` that will both take the value 28"
      ],
      "metadata": {
        "id": "r4Aw5ObQoWdI"
      }
    },
    {
      "cell_type": "code",
      "source": [
        "# TODO (Students need to fill this section)\n",
        "img_height =\n",
        "img_width ="
      ],
      "metadata": {
        "id": "Ip0NFeyjpj79"
      },
      "execution_count": null,
      "outputs": []
    },
    {
      "cell_type": "markdown",
      "source": [
        "[3.3] Create a function that loads a .npz file using numpy and return the content of the `arr_0` key"
      ],
      "metadata": {
        "id": "hmX5SEHkpp63"
      }
    },
    {
      "cell_type": "code",
      "source": [
        "def load(f):\n",
        "    return np.load(f)['arr_0']"
      ],
      "metadata": {
        "id": "5S3cthx57L2f"
      },
      "execution_count": null,
      "outputs": []
    },
    {
      "cell_type": "markdown",
      "source": [
        "[3.4] **TODO** Load the 4 files saved on your Google Drive into their respective variables: x_train, y_train, x_test and y_test"
      ],
      "metadata": {
        "id": "8V2Ij9s7qRtj"
      }
    },
    {
      "cell_type": "code",
      "source": [
        "# TODO (Students need to fill this section)\n",
        "x_train =\n",
        "x_test =\n",
        "y_train =\n",
        "y_test ="
      ],
      "metadata": {
        "id": "5XTkRb0lqpEE"
      },
      "execution_count": null,
      "outputs": []
    },
    {
      "cell_type": "markdown",
      "source": [
        "[3.5] **TODO** Using matplotlib display the first image from the train set and its target value"
      ],
      "metadata": {
        "id": "3KC12nB7rlbV"
      }
    },
    {
      "cell_type": "code",
      "source": [
        "# TODO (Students need to fill this section)\n",
        "plt."
      ],
      "metadata": {
        "id": "AOtWg7bBrwmV"
      },
      "execution_count": null,
      "outputs": []
    },
    {
      "cell_type": "markdown",
      "source": [
        "# 4. Prepare Data"
      ],
      "metadata": {
        "id": "htLk_27ir0B1"
      }
    },
    {
      "cell_type": "markdown",
      "source": [
        "[4.1] **TODO** Reshape the images from the training and testing set to have the channel dimension last. The dimensions should be: (row_number, height, width, channel)"
      ],
      "metadata": {
        "id": "VJEBe30Er33P"
      }
    },
    {
      "cell_type": "code",
      "source": [
        "# TODO (Students need to fill this section)\n",
        "x_train =\n",
        "x_test ="
      ],
      "metadata": {
        "id": "1yqWleZasxdR"
      },
      "execution_count": null,
      "outputs": []
    },
    {
      "cell_type": "markdown",
      "source": [
        "[4.2] **TODO** Cast `x_train` and `x_test` into `float32` decimals"
      ],
      "metadata": {
        "id": "F2f6wvFys2ZI"
      }
    },
    {
      "cell_type": "code",
      "source": [
        "# TODO (Students need to fill this section)\n",
        "x_train =\n",
        "x_test ="
      ],
      "metadata": {
        "id": "FWZmWe73tLXT"
      },
      "execution_count": null,
      "outputs": []
    },
    {
      "cell_type": "markdown",
      "source": [
        "[4.3] **TODO** Standardise the images of the training and testing sets. Originally each image contains pixels with value ranging from 0 to 255. after standardisation, the new value range should be from 0 to 1."
      ],
      "metadata": {
        "id": "Z-1Jr0pKs6jv"
      }
    },
    {
      "cell_type": "code",
      "source": [
        "# TODO (Students need to fill this section)\n",
        "x_train =\n",
        "x_test ="
      ],
      "metadata": {
        "id": "RXY1o272t0JO"
      },
      "execution_count": null,
      "outputs": []
    },
    {
      "cell_type": "markdown",
      "source": [
        "[4.4] **TODO** Create a variable called `num_classes` that will take the value 10 which corresponds to the number of classes for the target variable"
      ],
      "metadata": {
        "id": "9eH4aZmXt7Fe"
      }
    },
    {
      "cell_type": "code",
      "source": [
        "# TODO (Students need to fill this section)\n",
        "num_classes ="
      ],
      "metadata": {
        "id": "gTnMgLxYuUs6"
      },
      "execution_count": null,
      "outputs": []
    },
    {
      "cell_type": "markdown",
      "source": [
        "[4.5] **TODO** Convert the target variable for the training and testing sets to a binary class matrix of dimension (rows, num_classes).\n",
        "\n",
        "For example:\n",
        "- class 0 will become [1, 0, 0, 0, 0, 0, 0, 0, 0, 0]\n",
        "- class 1 will become [0, 1, 0, 0, 0, 0, 0, 0, 0, 0]\n",
        "- class 5 will become [0, 0, 0, 0, 0, 1, 0, 0, 0, 0]\n",
        "- class 9 will become [0, 0, 0, 0, 0, 0, 0, 0, 0, 1]"
      ],
      "metadata": {
        "id": "iAy0fUJsuyhb"
      }
    },
    {
      "cell_type": "code",
      "source": [
        "# TODO (Students need to fill this section)\n",
        "y_train =\n",
        "y_test ="
      ],
      "metadata": {
        "id": "ysNg37Ukwq8S"
      },
      "execution_count": null,
      "outputs": []
    },
    {
      "cell_type": "markdown",
      "source": [
        "# 5. Define Neural Networks Architecure"
      ],
      "metadata": {
        "id": "0OCorS00wxPN"
      }
    },
    {
      "cell_type": "markdown",
      "source": [
        "[5.1] Set the seed in PyTorch for reproducing results\n",
        "\n"
      ],
      "metadata": {
        "id": "7G_L-yqTxI1d"
      }
    },
    {
      "cell_type": "code",
      "source": [
        "# TODO (Students need to fill this section)"
      ],
      "metadata": {
        "id": "XB8OIC9wrgFG"
      },
      "execution_count": null,
      "outputs": []
    },
    {
      "cell_type": "markdown",
      "source": [
        "[5.2] **TODO** Define the architecture of your Neural Networks and save it into a variable called `model`"
      ],
      "metadata": {
        "id": "5b93U4MixWeE"
      }
    },
    {
      "cell_type": "code",
      "source": [
        "# TODO (Students need to fill this section)\n",
        "model ="
      ],
      "metadata": {
        "id": "gq1f74uKxpkp"
      },
      "execution_count": null,
      "outputs": []
    },
    {
      "cell_type": "markdown",
      "source": [
        "[5.2] **TODO** Print the summary of your model"
      ],
      "metadata": {
        "id": "0IvuMQ81xu5U"
      }
    },
    {
      "cell_type": "code",
      "source": [
        "# TODO (Students need to fill this section)\n",
        "model."
      ],
      "metadata": {
        "id": "gBRm-h5dxvIw"
      },
      "execution_count": null,
      "outputs": []
    },
    {
      "cell_type": "markdown",
      "source": [
        "# 6. Train Neural Networks"
      ],
      "metadata": {
        "id": "sOPTnNxtx6MC"
      }
    },
    {
      "cell_type": "markdown",
      "source": [
        "[6.1] **TODO** Create 2 variables called `batch_size` and `epochs` that will  respectively take the values 128 and 500"
      ],
      "metadata": {
        "id": "fsHJzhnAyP4H"
      }
    },
    {
      "cell_type": "code",
      "source": [
        "# TODO (Students need to fill this section)\n",
        "batch_size =\n",
        "epochs ="
      ],
      "metadata": {
        "id": "hNe_Cia0yde-"
      },
      "execution_count": null,
      "outputs": []
    },
    {
      "cell_type": "markdown",
      "source": [
        "[6.2] **TODO** Compile your model with the appropriate loss function, the optimiser of your choice and the accuracy metric"
      ],
      "metadata": {
        "id": "4-bAkzwXyjAs"
      }
    },
    {
      "cell_type": "code",
      "source": [
        "# TODO (Students need to fill this section)\n",
        "model."
      ],
      "metadata": {
        "id": "0WnNAYT6yjci"
      },
      "execution_count": null,
      "outputs": []
    },
    {
      "cell_type": "markdown",
      "source": [
        "[6.3] **TODO** Train your model\n",
        "using the number of epochs defined. Calculate the total loss and save it to a variable called total_loss."
      ],
      "metadata": {
        "id": "iRvM_pEZy7SX"
      }
    },
    {
      "cell_type": "code",
      "source": [
        "# TODO (Students need to fill this section)\n"
      ],
      "metadata": {
        "id": "EMzFo2r5JKn6"
      },
      "execution_count": null,
      "outputs": []
    },
    {
      "cell_type": "markdown",
      "source": [
        "[6.4] **TODO** Test your model.  Initiate the model.eval() along with torch.no_grad() to turn off the gradients.\n"
      ],
      "metadata": {
        "id": "emZ5Ayr88PZh"
      }
    },
    {
      "cell_type": "code",
      "source": [
        "# TODO (Students need to fill this section)"
      ],
      "metadata": {
        "id": "bfvBZ3zy8QM9"
      },
      "execution_count": null,
      "outputs": []
    },
    {
      "cell_type": "markdown",
      "source": [
        "# 7. Analyse Results"
      ],
      "metadata": {
        "id": "vz9uFy_X6oeA"
      }
    },
    {
      "cell_type": "markdown",
      "source": [
        "[7.1] **TODO** Display the performance of your model on the training and testing sets"
      ],
      "metadata": {
        "id": "ddugPZhZ68Wb"
      }
    },
    {
      "cell_type": "code",
      "source": [
        "# TODO (Students need to fill this section)\n",
        "print()"
      ],
      "metadata": {
        "id": "yihZIPZ_6sql"
      },
      "execution_count": null,
      "outputs": []
    },
    {
      "cell_type": "markdown",
      "source": [
        "[7.2] **TODO** Plot the learning curve of your model"
      ],
      "metadata": {
        "id": "iBTo_xEI7K_z"
      }
    },
    {
      "cell_type": "code",
      "source": [
        "# TODO (Students need to fill this section)\n",
        "plt."
      ],
      "metadata": {
        "id": "jRt_4W2F7RVV"
      },
      "execution_count": null,
      "outputs": []
    },
    {
      "cell_type": "markdown",
      "source": [
        "[7.3] **TODO** Display the confusion matrix on the testing set predictions"
      ],
      "metadata": {
        "id": "qKPu98GR7a17"
      }
    },
    {
      "cell_type": "code",
      "source": [
        "# TODO (Students need to fill this section)\n"
      ],
      "metadata": {
        "id": "TkrP9JCgMzpT"
      },
      "execution_count": null,
      "outputs": []
    }
  ]
}